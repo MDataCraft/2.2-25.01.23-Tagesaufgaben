{
 "cells": [
  {
   "cell_type": "markdown",
   "id": "e76ebb35",
   "metadata": {},
   "source": [
    "<center><h1 style=\"font-size:2em;color:#2467C0;font-family:Times New Roman\">Tagesaufgaben 25.01.2023</h1></center>"
   ]
  },
  {
   "cell_type": "markdown",
   "id": "f562ac8e",
   "metadata": {},
   "source": [
    "<div class=\"alert alert-success\" role=\"alert\">\n",
    "  <hr>\n",
    "      <h4 style=\"font-family:courier;font-size:1.3em\">\n",
    "Lade die CSV Datei 'Dataset.csv' herunter und speichere sie in einem gewünschten Ordner auf deinem Rechner.\n",
    "</h4>\n",
    "<hr>\n",
    "</div>"
   ]
  },
  {
   "cell_type": "markdown",
   "id": "7e3bc451",
   "metadata": {},
   "source": [
    "<div class=\"alert alert-success\" role=\"alert\">\n",
    "          <h4 style=\"font-family:courier;font-size:1.7em\">\n",
    "Aufgabe1\n",
    "</h4>\n",
    "  <hr>\n",
    "      <h4 style=\"font-family:courier;font-size:1.5em\">\n",
    "Bearbeite die angegebenen Steps<br>\n",
    "</h4>\n",
    "</div>"
   ]
  },
  {
   "cell_type": "markdown",
   "id": "bb550791",
   "metadata": {},
   "source": [
    "# Step1\n",
    "### Lese die  'Dataset.csv' Datei  und speichere den Dataframe in der Variable 'data'. Gib anschließend die ersten 4 Zeilen des Dataframes aus.\n"
   ]
  },
  {
   "cell_type": "code",
   "execution_count": null,
   "id": "783fe2d1",
   "metadata": {},
   "outputs": [],
   "source": []
  },
  {
   "cell_type": "markdown",
   "id": "510e12bf",
   "metadata": {},
   "source": [
    "# Step2\n",
    "## Berechne die Menge an NaNs in jeder Spalte und lass dir die 10 Spalten mit den meisten NaNs anzeigen.\n"
   ]
  },
  {
   "cell_type": "code",
   "execution_count": null,
   "id": "8b5b4146",
   "metadata": {},
   "outputs": [],
   "source": []
  },
  {
   "cell_type": "markdown",
   "id": "ba3c400a",
   "metadata": {},
   "source": [
    "# Step 3\n",
    "### Lösche die Spalten in denen mehr als 50% der Werte NaNs sind. Überschreibe dazu deinen DataFrame."
   ]
  },
  {
   "cell_type": "code",
   "execution_count": null,
   "id": "620e357a",
   "metadata": {},
   "outputs": [],
   "source": []
  },
  {
   "cell_type": "markdown",
   "id": "6685fd2a",
   "metadata": {},
   "source": [
    "# Step 4 - Optional\n",
    "### Prozentual gesehen, wie viele NaN Werte gibt es im ganzen DataFrame?"
   ]
  },
  {
   "cell_type": "code",
   "execution_count": null,
   "id": "80cd9488",
   "metadata": {},
   "outputs": [],
   "source": []
  },
  {
   "cell_type": "markdown",
   "id": "d05a1bdc",
   "metadata": {},
   "source": [
    "# Step 5\n",
    "### Zeige mithilfe der missingno Library alle NaN Werte in einem Graphen an"
   ]
  },
  {
   "cell_type": "code",
   "execution_count": null,
   "id": "5a73293b",
   "metadata": {},
   "outputs": [],
   "source": []
  },
  {
   "cell_type": "markdown",
   "id": "a2497bcb",
   "metadata": {},
   "source": [
    "# Step 6 - Optional\n",
    "## Fülle alle NaN Werte in der Spalte \"Existing Use\" mit dem darüberliegenden NICHT NaN Wert!\n",
    "## Lass dir das Ergebnis nur anzeigen und überschreibe den DataFrame nicht!\n",
    "### Die beiden folgenden Tabellen sind Beispiele zur Veranschaulichung. Die erste zeigt die Ausgangstabelle und die zweite das Ergebnis nach Anwendung des zweiten Schrittes."
   ]
  },
  {
   "cell_type": "markdown",
   "id": "43c136e5",
   "metadata": {},
   "source": [
    "Spalte 1 | Spalte 2 \n",
    "-------- | -------- \n",
    "2   | 1\n",
    " 3  | NaN \n",
    "NaN | 7  \n",
    "NaN   | NaN "
   ]
  },
  {
   "cell_type": "markdown",
   "id": "6ccd71db",
   "metadata": {},
   "source": [
    "##### Endergebnis\n",
    "Spalte 1 | Spalte 2 \n",
    "-------- | -------- \n",
    "2   | 1\n",
    " 3  | 1 \n",
    "3 | 7  \n",
    "3   | 7"
   ]
  },
  {
   "cell_type": "code",
   "execution_count": null,
   "id": "3a673907",
   "metadata": {},
   "outputs": [],
   "source": []
  },
  {
   "cell_type": "markdown",
   "id": "427830eb",
   "metadata": {},
   "source": [
    "# Step 7\n",
    "## Ersetze die NaN Werte in der Spalte \"Number of Existing Stories\"  mit einer 1"
   ]
  },
  {
   "cell_type": "code",
   "execution_count": null,
   "id": "f2272236",
   "metadata": {},
   "outputs": [],
   "source": []
  },
  {
   "cell_type": "markdown",
   "id": "c82ae9d8",
   "metadata": {},
   "source": [
    "# Step 8\n",
    "## Ersetze die NaN Werte in der Spalte \"Existing Units\"  mit dem Maximalwert dieser Spalte"
   ]
  },
  {
   "cell_type": "code",
   "execution_count": null,
   "id": "10f804f3",
   "metadata": {},
   "outputs": [],
   "source": []
  },
  {
   "cell_type": "markdown",
   "id": "f356d985",
   "metadata": {},
   "source": [
    "# Step 9\n",
    "## Ersetze die NaN Werte in der Spalte \"Plansets\"  mit einer linearen Interpolation"
   ]
  },
  {
   "cell_type": "code",
   "execution_count": null,
   "id": "4da64ab7",
   "metadata": {},
   "outputs": [],
   "source": []
  },
  {
   "cell_type": "markdown",
   "id": "8c561f84",
   "metadata": {},
   "source": [
    "# Step 10\n",
    "### Lade das aktualisierte Notebook auf den Server (Github)"
   ]
  },
  {
   "cell_type": "markdown",
   "metadata": {
    "collapsed": false
   },
   "source": [
    "<div class=\"alert alert-success\" role=\"alert\">\n",
    "          <h4 style=\"font-family:courier;font-size:1.7em\">\n",
    "Aufgabe2 - SQL\n",
    "</h4>\n",
    "  <hr>\n",
    "      <h4 style=\"font-family:courier;font-size:1.5em\">\n",
    "\n",
    "</h4>\n",
    "</div>"
   ]
  },
  {
   "cell_type": "markdown",
   "metadata": {
    "collapsed": false
   },
   "source": [
    "Wie nennt man in SQL folgende Begriffe:"
   ]
  },
  {
   "cell_type": "markdown",
   "metadata": {
    "collapsed": false
   },
   "source": [
    "Tabelle:\n",
    "Zeilen:\n",
    "Spalten:"
   ]
  },
  {
   "cell_type": "markdown",
   "metadata": {
    "collapsed": false
   },
   "source": [
    "Welche Eigenschaften sollten Transaktionen besitzen? Nenne das Schlagwort und erläutere die einzelnen Bestandteile"
   ]
  },
  {
   "cell_type": "markdown",
   "metadata": {
    "collapsed": false
   },
   "source": [
    "#"
   ]
  }
 ],
 "metadata": {
  "kernelspec": {
   "display_name": "data_craft",
   "language": "python",
   "name": "python3"
  },
  "language_info": {
   "codemirror_mode": {
    "name": "ipython",
    "version": 3
   },
   "file_extension": ".py",
   "mimetype": "text/x-python",
   "name": "python",
   "nbconvert_exporter": "python",
   "pygments_lexer": "ipython3",
   "version": "3.10.6 (main, Nov 14 2022, 16:10:14) [GCC 11.3.0]"
  },
  "vscode": {
   "interpreter": {
    "hash": "1c302a9c5cce8ae3ad3c3177dab57ef0362494304f5a6647936efe5912a9f8a6"
   }
  }
 },
 "nbformat": 4,
 "nbformat_minor": 5
}
